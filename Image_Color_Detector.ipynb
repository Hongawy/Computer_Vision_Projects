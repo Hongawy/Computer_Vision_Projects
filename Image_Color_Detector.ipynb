{
  "nbformat": 4,
  "nbformat_minor": 0,
  "metadata": {
    "colab": {
      "provenance": [],
      "authorship_tag": "ABX9TyMeFeawoVZ9p4Qf1yHeCAU+",
      "include_colab_link": true
    },
    "kernelspec": {
      "name": "python3",
      "display_name": "Python 3"
    },
    "language_info": {
      "name": "python"
    }
  },
  "cells": [
    {
      "cell_type": "markdown",
      "metadata": {
        "id": "view-in-github",
        "colab_type": "text"
      },
      "source": [
        "<a href=\"https://colab.research.google.com/github/Hongawy/Computer_Vision_Projects/blob/main/Image_Color_Detector.ipynb\" target=\"_parent\"><img src=\"https://colab.research.google.com/assets/colab-badge.svg\" alt=\"Open In Colab\"/></a>"
      ]
    },
    {
      "cell_type": "markdown",
      "source": [
        "# Task 2:\n",
        "Implement an image color detector which identifies all colors in an image or video."
      ],
      "metadata": {
        "id": "lVumER6R5f1q"
      }
    },
    {
      "cell_type": "markdown",
      "source": [
        "# 1. import all required dependencies"
      ],
      "metadata": {
        "id": "KdiuYG_k6OiN"
      }
    },
    {
      "cell_type": "code",
      "execution_count": null,
      "metadata": {
        "id": "iK2GZAF71ygC"
      },
      "outputs": [],
      "source": [
        "import cv2\n",
        "from matplotlib import pyplot as plt\n",
        "import numpy as np\n",
        "from google.colab.patches import cv2_imshow\n",
        "from webcolors import hex_to_name\n",
        "!pip install webcolors"
      ]
    },
    {
      "cell_type": "markdown",
      "source": [
        "# 2. Upload the required image"
      ],
      "metadata": {
        "id": "zl8m6xLw6j9V"
      }
    },
    {
      "cell_type": "code",
      "source": [
        "image=cv2.imread('Venice.jpeg')\n",
        "height, width, channels = image.shape\n",
        "# Print the dimensions\n",
        "print(\"Y:\", height)\n",
        "print(\"X:\", width)\n",
        "\n",
        "# Convert the image to RGB format\n",
        "image_rgb = cv2.cvtColor(image, cv2.COLOR_BGR2RGB)\n",
        "print(image_rgb.shape)"
      ],
      "metadata": {
        "id": "AtDMVcoe6p2z"
      },
      "execution_count": null,
      "outputs": []
    },
    {
      "cell_type": "markdown",
      "source": [
        "# 3. Convert the RGB values to HEX values and print them"
      ],
      "metadata": {
        "id": "wFgL862zSunU"
      }
    },
    {
      "cell_type": "code",
      "source": [
        "#Store the image shape for later reshaping\n",
        "image_shape = image_rgb.shape[:2]\n",
        "\n",
        "#Flatten the rgb image and then convert each value to HEX and concatenate them together in a numpy array\n",
        "hex_values = ['#%02x%02x%02x' % (r, g, b) for r, g, b in np.reshape(image_rgb, (-1, 3))]\n",
        "\n",
        "#Reshape the HEX numpy array to the original shape of the picture (height*width)\n",
        "hex_values = np.reshape(hex_values, image_shape)\n",
        "\n",
        "#Print the HEX values\n",
        "print(hex_values)"
      ],
      "metadata": {
        "id": "F3150gSwF6zV"
      },
      "execution_count": null,
      "outputs": []
    }
  ]
}