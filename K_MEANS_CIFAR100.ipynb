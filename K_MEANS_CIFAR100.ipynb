{
  "nbformat": 4,
  "nbformat_minor": 0,
  "metadata": {
    "colab": {
      "provenance": [],
      "authorship_tag": "ABX9TyPI35/nxY4wH3KFCxg6c1HV",
      "include_colab_link": true
    },
    "kernelspec": {
      "name": "python3",
      "display_name": "Python 3"
    },
    "language_info": {
      "name": "python"
    }
  },
  "cells": [
    {
      "cell_type": "markdown",
      "metadata": {
        "id": "view-in-github",
        "colab_type": "text"
      },
      "source": [
        "<a href=\"https://colab.research.google.com/github/Hongawy/Computer_Vision_Projects/blob/main/K_MEANS_CIFAR100.ipynb\" target=\"_parent\"><img src=\"https://colab.research.google.com/assets/colab-badge.svg\" alt=\"Open In Colab\"/></a>"
      ]
    },
    {
      "cell_type": "markdown",
      "source": [
        "# Importing libraries and CIFAR-100 Dataset"
      ],
      "metadata": {
        "id": "Q5NPQMyNxzPu"
      }
    },
    {
      "cell_type": "code",
      "execution_count": null,
      "metadata": {
        "id": "4kDD0gnd-Pz8",
        "colab": {
          "base_uri": "https://localhost:8080/"
        },
        "outputId": "e49424ec-6348-4f19-b47d-5f9e93803fae"
      },
      "outputs": [
        {
          "output_type": "stream",
          "name": "stdout",
          "text": [
            "Downloading data from https://www.cs.toronto.edu/~kriz/cifar-100-python.tar.gz\n",
            "169001437/169001437 [==============================] - 6s 0us/step\n"
          ]
        }
      ],
      "source": [
        "import cv2\n",
        "import numpy as np\n",
        "import tensorflow as tf\n",
        "import keras\n",
        "import matplotlib.pyplot as plt\n",
        "\n",
        "# Load the CIFAR-100 dataset\n",
        "(x_train, y_train), (x_test, y_test) = keras.datasets.cifar100.load_data()"
      ]
    },
    {
      "cell_type": "markdown",
      "source": [
        "# HOG Features Extraction"
      ],
      "metadata": {
        "id": "VOZJNIEwrVVS"
      }
    },
    {
      "cell_type": "code",
      "source": [
        "# Create a HOG descriptor with window size =(32x32) , block size = (16x16)\n",
        "# cell size = (8x8) , histogram values = 9\n",
        "\n",
        "hog = cv2.HOGDescriptor((32,32), (16,16), (8,8), (8,8),9)\n",
        "\n",
        "# Initialize a list to store the HOG features for training set and test set\n",
        "hog_training = []\n",
        "hog_test = []\n",
        "# Loop through the training images\n",
        "for image in x_train:\n",
        "  # Convert the image to grayscale\n",
        "  gray_image = cv2.cvtColor(image, cv2.COLOR_BGR2GRAY)\n",
        "  # Compute the HOG features\n",
        "  features = hog.compute(gray_image)\n",
        "  # Append the features to the list\n",
        "  hog_training.append(features)\n",
        "\n",
        "# Loop through the test images\n",
        "for image in x_test:\n",
        "  # Convert the image to grayscale\n",
        "  gray_image = cv2.cvtColor(image, cv2.COLOR_BGR2GRAY)\n",
        "  # Compute the HOG features\n",
        "  features = hog.compute(gray_image)\n",
        "  # Append the features to the list\n",
        "  hog_test.append(features)\n",
        "\n",
        "# Convert the lists to a numpy array\n",
        "hog_training = np.array(hog_training)\n",
        "hog_test = np.array(hog_test)\n",
        "\n",
        "# Print the shape of the HOG features\n",
        "print(\"HOG Features Done!\")\n",
        "print(hog_training.shape)\n",
        "print(hog_test.shape)\n",
        "print(y_train.shape)\n",
        "print(y_test.shape)"
      ],
      "metadata": {
        "id": "hq40EtM--eAm",
        "colab": {
          "base_uri": "https://localhost:8080/"
        },
        "outputId": "cc8b09e7-90a3-480e-ce3d-01e11caed195"
      },
      "execution_count": null,
      "outputs": [
        {
          "output_type": "stream",
          "name": "stdout",
          "text": [
            "HOG Features Done!\n",
            "(50000, 324)\n",
            "(10000, 324)\n",
            "(50000, 1)\n",
            "(10000, 1)\n"
          ]
        }
      ]
    },
    {
      "cell_type": "markdown",
      "source": [
        "# K-Means Algorithm"
      ],
      "metadata": {
        "id": "ivjV2ziTxlKq"
      }
    },
    {
      "cell_type": "code",
      "source": [
        "#Initialize the centroids to random values\n",
        "def kMeans_init_centroids(X, K):\n",
        "    randidx = np.random.permutation(X.shape[0])\n",
        "    centroids = X[randidx[:K]]\n",
        "    return centroids\n",
        "\n",
        "def cost_kmeans(X,Y,centroids):\n",
        "    total_cost=np.zeros_like(centroids)\n",
        "    clusters=0\n",
        "    for d in range(centroids.shape[0]):\n",
        "        cost=0\n",
        "        m =0\n",
        "        for i in range(X.shape[0]):\n",
        "            if Y[i]==(clusters):\n",
        "                m+=1\n",
        "                cost_i=((X[i]-centroids[clusters])**2)\n",
        "                cost+=cost_i\n",
        "        total_cost[clusters]=(1/m *(cost))\n",
        "        clusters+=1\n",
        "    return total_cost\n",
        "\n",
        "def mean_kmeans(X,Y,centroids):\n",
        "    clusters=0\n",
        "    for d in range(centroids.shape[0]):\n",
        "        points=np.zeros_like(X[1])\n",
        "        m =0\n",
        "        for i in range(X.shape[0]):\n",
        "            if Y[i]==clusters:\n",
        "                m+=1\n",
        "                points+=X[i]\n",
        "        centroids[clusters]=(1/m)*(points)\n",
        "        clusters+=1\n",
        "    return centroids\n",
        "\n",
        "k=100\n",
        "centroids =kMeans_init_centroids(hog_training,k)\n",
        "print(centroids)\n",
        "print(\"\\n\\n\")\n",
        "P_cost=np.zeros_like(centroids)\n",
        "cost=cost_kmeans(hog_training,y_train,centroids)\n",
        "centroids=mean_kmeans(hog_training,y_train,centroids)\n",
        "print(centroids)\n",
        "\n",
        "def compute_centroids(X, idx, K):\n",
        "    m, n = X.shape\n",
        "    centroids = np.zeros((K, n))\n",
        "    for i  in range(K):\n",
        "        k_pi=X[idx == i]\n",
        "        centroids[i] = np.mean(k_pi, axis = 0)\n",
        "    return centroids\n",
        "\n",
        "\n",
        "def Kmean_acc(idx,y_train):\n",
        "    correct=0\n",
        "    for i in range(50000):\n",
        "        if (idx[i]-y_train[i])==0:\n",
        "            correct = correct + 1\n",
        "    acc = (correct/50000)*100\n",
        "    print('Accuracy:',acc,'%')\n",
        "\n",
        "\n",
        "def find_closest_centroids(X, centroids):\n",
        "    K = centroids.shape[0]\n",
        "    idx = np.zeros(X.shape[0], dtype=int)\n",
        "    for i in range(X.shape[0]) :\n",
        "        dist=[]\n",
        "        for j in range(centroids.shape[0]):\n",
        "            norm=  np.linalg.norm(X[i] - centroids[j])\n",
        "            dist.append(norm)\n",
        "        idx[i]=np.argmin(dist)\n",
        "    return idx\n",
        "\n",
        "def run_kMeans(X, initial_centroids, max_iters=10):\n",
        "    m,n = X.shape\n",
        "    K = initial_centroids.shape[0]\n",
        "    centroids = initial_centroids\n",
        "    previous_centroids = centroids\n",
        "    idx = np.zeros(m)\n",
        "    for i in range(max_iters):\n",
        "        print(\"K-Means iteration %d/%d\" % (i, max_iters-1))\n",
        "        idx = find_closest_centroids(X, centroids)\n",
        "        centroids = compute_centroids(X, idx, K)\n",
        "    return centroids, idx\n",
        "\n"
      ],
      "metadata": {
        "id": "4yCt1pA0xvjq",
        "colab": {
          "base_uri": "https://localhost:8080/"
        },
        "outputId": "c87b3adc-daef-426e-cb9c-bb3c4e4ef538"
      },
      "execution_count": null,
      "outputs": [
        {
          "output_type": "stream",
          "name": "stdout",
          "text": [
            "[[0.25073656 0.03987567 0.04723272 ... 0.16149437 0.10017493 0.19596632]\n",
            " [0.13392524 0.10425232 0.11062553 ... 0.0862163  0.18236846 0.24937668]\n",
            " [0.14525978 0.14372349 0.11496767 ... 0.14026721 0.24489073 0.21032937]\n",
            " ...\n",
            " [0.0631104  0.02684585 0.0191454  ... 0.196098   0.20119944 0.25389275]\n",
            " [0.09973546 0.26037693 0.26037693 ... 0.01530824 0.04212321 0.1426693 ]\n",
            " [0.0321167  0.03031038 0.03784161 ... 0.12836827 0.15646964 0.23043613]]\n",
            "\n",
            "\n",
            "\n",
            "[[0.11716131 0.19083531 0.2117164  ... 0.07171296 0.07004483 0.1039547 ]\n",
            " [0.11663306 0.11807032 0.12678084 ... 0.12696472 0.11465508 0.13325156]\n",
            " [0.13861856 0.13467434 0.12887655 ... 0.14372025 0.14341044 0.15463659]\n",
            " ...\n",
            " [0.15813889 0.13435902 0.1160449  ... 0.12376606 0.13545637 0.17187482]\n",
            " [0.15832122 0.14989474 0.12356924 ... 0.12893431 0.13769083 0.16813783]\n",
            " [0.11087339 0.12938452 0.13686627 ... 0.09990277 0.10099541 0.11489166]]\n"
          ]
        }
      ]
    },
    {
      "cell_type": "code",
      "source": [
        "centroids, idx = run_kMeans(hog_training,centroids,max_iters=1)\n",
        "print (idx)\n",
        "print (y_train)\n",
        "Kmean_acc(idx,y_train)"
      ],
      "metadata": {
        "id": "RY7pqc3P_yst",
        "colab": {
          "base_uri": "https://localhost:8080/"
        },
        "outputId": "c26295a9-e88b-4f98-9592-bd2452f31d05"
      },
      "execution_count": null,
      "outputs": [
        {
          "output_type": "stream",
          "name": "stdout",
          "text": [
            "K-Means iteration 0/0\n",
            "[77 29 58 ...  3 30 91]\n",
            "[[19]\n",
            " [29]\n",
            " [ 0]\n",
            " ...\n",
            " [ 3]\n",
            " [ 7]\n",
            " [73]]\n",
            "Accuracy: 15.826 %\n"
          ]
        }
      ]
    }
  ]
}